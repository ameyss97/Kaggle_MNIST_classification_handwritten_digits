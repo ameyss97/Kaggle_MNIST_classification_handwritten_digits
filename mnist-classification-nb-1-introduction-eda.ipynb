{
 "cells": [
  {
   "cell_type": "markdown",
   "id": "7d04c264",
   "metadata": {
    "papermill": {
     "duration": 0.012944,
     "end_time": "2024-09-02T23:20:02.039025",
     "exception": false,
     "start_time": "2024-09-02T23:20:02.026081",
     "status": "completed"
    },
    "tags": []
   },
   "source": [
    "# Notebook 1 - Introduction and Exploration of MNIST Data \n",
    "## Objectives :\n",
    "- Learn about MNIST dataset\n",
    "- Load and visualize the MNIST dataset using both PyTorch and TensorFlow/Keras\n",
    "- Compare the data handling process in both methods\n",
    "- Learn more about PyTorch and TensorFlow/Keras during this process"
   ]
  },
  {
   "cell_type": "markdown",
   "id": "4e9d1aeb",
   "metadata": {
    "papermill": {
     "duration": 0.010107,
     "end_time": "2024-09-02T23:20:02.060302",
     "exception": false,
     "start_time": "2024-09-02T23:20:02.050195",
     "status": "completed"
    },
    "tags": []
   },
   "source": [
    "## Section 1 : Introduction\n",
    "### About MNIST dataset\n",
    "- The MNIST dataset is an acronym that stands for the Modified National Institute of Standards and Technology dataset.\n",
    "\n",
    "- It is a dataset of 70,000 small square 28×28 pixel grayscale images of handwritten single digits between 0 and 9.\n",
    "\n",
    "- The task is to classify a given image of a handwritten digit into one of 10 classes representing integer values from 0 to 9, inclusively.\n",
    "\n",
    "- I want to achieve this using different models, evaluate each of them and during the process, learn more about different Machine Learning and Deep Learning techniques."
   ]
  },
  {
   "cell_type": "markdown",
   "id": "262ea663",
   "metadata": {
    "papermill": {
     "duration": 0.010184,
     "end_time": "2024-09-02T23:20:02.080974",
     "exception": false,
     "start_time": "2024-09-02T23:20:02.070790",
     "status": "completed"
    },
    "tags": []
   },
   "source": [
    "## Section 2 : Import required libraries\n",
    "### NumPy\n",
    "- NumPy (Numerical Python) is a fundamental library for scientific computing in Python\n",
    "- NumPy is essential for numerical computations in Python and serves as the foundation for many other scientific computing libraries\n",
    "\n",
    "### Pandas\n",
    "- Pandas is a powerful library for data analysis and manipulation \n",
    "- Pandas is widely used in data science workflows for preparing and analyzing datasets\n",
    "\n",
    "### Matplotlib and Pyplot\n",
    "- Matplotlib is a plotting library for creating static, animated, and interactive visualizations in Python\n",
    "- Pyplot is a MATLAB-like interface built on top of Matplotlib, providing a simpler API for basic plotting tasks\n",
    "\n",
    "### Scikit-learn (Sklearn)\n",
    "- Scikit-learn is a machine learning library for Python \n",
    "- Key features include:\n",
    "    - Provides a wide range of algorithms for classification, regression, clustering, and more\n",
    "    - Offers tools for data preprocessing, feature selection, and model evaluation\n",
    "    - Features cross-validation methods for assessing model performance\n",
    "    - Designed to be easy to use, efficient, and robust\n",
    "- Scikit-learn is a popular choice for implementing machine learning models in Python.\n",
    "\n",
    "### PyTorch\n",
    "- PyTorch is a deep learning framework for Python \n",
    "- Key characteristics:\n",
    "    - Excels in tensor computation acceleration using GPU\n",
    "    - Uses a dynamic computation graph, allowing for flexible experimentation\n",
    "    - Well-suited for research-oriented projects and linguistic analysis\n",
    "    - More flexible than TensorFlow but harder to choose between the two\n",
    "- PyTorch is particularly useful for neural network development and is favored by researchers.\n",
    "\n",
    "### TensorFlow\n",
    "- TensorFlow is another popular deep learning framework \n",
    "- Key points:\n",
    "    - Developed by Google\n",
    "    - Known for its production-ready features\n",
    "    - Better suited for large-scale deployment compared to PyTorch\n",
    "    - Offers a static computation graph, which can be beneficial for certain applications\n",
    "- TensorFlow is often preferred for production environments and larger-scale projects.\n",
    "\n",
    "### Keras\n",
    "- Keras is a high-level neural networks API \n",
    "- Key features:\n",
    "    - Written in Python\n",
    "    - Capable of running on top of either TensorFlow or Theano\n",
    "    - Designed to be easy to use and accessible to beginners\n",
    "    - Offers a simple interface for building deep learning models\n",
    "- Keras provides a convenient way to implement neural networks without worrying about the underlying computational engine.\n",
    "\n",
    "These libraries form the core of many data science and machine learning pipelines in Python, each serving a specific purpose in data analysis, visualization, and modeling."
   ]
  },
  {
   "cell_type": "code",
   "execution_count": 1,
   "id": "9a1027fc",
   "metadata": {
    "execution": {
     "iopub.execute_input": "2024-09-02T23:20:02.103717Z",
     "iopub.status.busy": "2024-09-02T23:20:02.103239Z",
     "iopub.status.idle": "2024-09-02T23:20:20.931842Z",
     "shell.execute_reply": "2024-09-02T23:20:20.930635Z"
    },
    "papermill": {
     "duration": 18.843396,
     "end_time": "2024-09-02T23:20:20.934846",
     "exception": false,
     "start_time": "2024-09-02T23:20:02.091450",
     "status": "completed"
    },
    "tags": []
   },
   "outputs": [],
   "source": [
    "# import libraries that are useful for us\n",
    "import numpy as np\n",
    "import pandas as pd\n",
    "# import sklearn\n",
    "import torch\n",
    "import tensorflow as tf\n",
    "from tensorflow import keras\n",
    "%matplotlib inline\n",
    "import matplotlib.pyplot as plt\n",
    "import warnings\n",
    "warnings.filterwarnings('ignore')"
   ]
  },
  {
   "cell_type": "markdown",
   "id": "071755ec",
   "metadata": {
    "papermill": {
     "duration": 0.01031,
     "end_time": "2024-09-02T23:20:20.955871",
     "exception": false,
     "start_time": "2024-09-02T23:20:20.945561",
     "status": "completed"
    },
    "tags": []
   },
   "source": [
    "## Section 3 : Loading MNIST data and Exploration\n",
    "### Using Sci-Kit Learn"
   ]
  },
  {
   "cell_type": "code",
   "execution_count": 2,
   "id": "658af237",
   "metadata": {
    "execution": {
     "iopub.execute_input": "2024-09-02T23:20:20.979436Z",
     "iopub.status.busy": "2024-09-02T23:20:20.978089Z",
     "iopub.status.idle": "2024-09-02T23:21:32.469703Z",
     "shell.execute_reply": "2024-09-02T23:21:32.468424Z"
    },
    "papermill": {
     "duration": 71.506523,
     "end_time": "2024-09-02T23:21:32.472857",
     "exception": false,
     "start_time": "2024-09-02T23:20:20.966334",
     "status": "completed"
    },
    "tags": []
   },
   "outputs": [],
   "source": [
    "# fetching the data\n",
    "from sklearn.datasets import fetch_openml\n",
    "mnist_skl = fetch_openml(\"mnist_784\")"
   ]
  },
  {
   "cell_type": "code",
   "execution_count": 3,
   "id": "3d8aab42",
   "metadata": {
    "execution": {
     "iopub.execute_input": "2024-09-02T23:21:32.497381Z",
     "iopub.status.busy": "2024-09-02T23:21:32.496569Z",
     "iopub.status.idle": "2024-09-02T23:21:32.505923Z",
     "shell.execute_reply": "2024-09-02T23:21:32.504719Z"
    },
    "papermill": {
     "duration": 0.024163,
     "end_time": "2024-09-02T23:21:32.508482",
     "exception": false,
     "start_time": "2024-09-02T23:21:32.484319",
     "status": "completed"
    },
    "tags": []
   },
   "outputs": [
    {
     "data": {
      "text/plain": [
       "dict_keys(['data', 'target', 'frame', 'categories', 'feature_names', 'target_names', 'DESCR', 'details', 'url'])"
      ]
     },
     "execution_count": 3,
     "metadata": {},
     "output_type": "execute_result"
    }
   ],
   "source": [
    "# Check contents of data\n",
    "mnist_skl.keys()"
   ]
  },
  {
   "cell_type": "code",
   "execution_count": 4,
   "id": "72caa32f",
   "metadata": {
    "collapsed": true,
    "execution": {
     "iopub.execute_input": "2024-09-02T23:21:32.532398Z",
     "iopub.status.busy": "2024-09-02T23:21:32.531490Z",
     "iopub.status.idle": "2024-09-02T23:21:32.539076Z",
     "shell.execute_reply": "2024-09-02T23:21:32.537886Z"
    },
    "jupyter": {
     "outputs_hidden": true
    },
    "papermill": {
     "duration": 0.022379,
     "end_time": "2024-09-02T23:21:32.541766",
     "exception": false,
     "start_time": "2024-09-02T23:21:32.519387",
     "status": "completed"
    },
    "tags": []
   },
   "outputs": [
    {
     "data": {
      "text/plain": [
       "\"**Author**: Yann LeCun, Corinna Cortes, Christopher J.C. Burges  \\n**Source**: [MNIST Website](http://yann.lecun.com/exdb/mnist/) - Date unknown  \\n**Please cite**:  \\n\\nThe MNIST database of handwritten digits with 784 features, raw data available at: http://yann.lecun.com/exdb/mnist/. It can be split in a training set of the first 60,000 examples, and a test set of 10,000 examples  \\n\\nIt is a subset of a larger set available from NIST. The digits have been size-normalized and centered in a fixed-size image. It is a good database for people who want to try learning techniques and pattern recognition methods on real-world data while spending minimal efforts on preprocessing and formatting. The original black and white (bilevel) images from NIST were size normalized to fit in a 20x20 pixel box while preserving their aspect ratio. The resulting images contain grey levels as a result of the anti-aliasing technique used by the normalization algorithm. the images were centered in a 28x28 image by computing the center of mass of the pixels, and translating the image so as to position this point at the center of the 28x28 field.  \\n\\nWith some classification methods (particularly template-based methods, such as SVM and K-nearest neighbors), the error rate improves when the digits are centered by bounding box rather than center of mass. If you do this kind of pre-processing, you should report it in your publications. The MNIST database was constructed from NIST's NIST originally designated SD-3 as their training set and SD-1 as their test set. However, SD-3 is much cleaner and easier to recognize than SD-1. The reason for this can be found on the fact that SD-3 was collected among Census Bureau employees, while SD-1 was collected among high-school students. Drawing sensible conclusions from learning experiments requires that the result be independent of the choice of training set and test among the complete set of samples. Therefore it was necessary to build a new database by mixing NIST's datasets.  \\n\\nThe MNIST training set is composed of 30,000 patterns from SD-3 and 30,000 patterns from SD-1. Our test set was composed of 5,000 patterns from SD-3 and 5,000 patterns from SD-1. The 60,000 pattern training set contained examples from approximately 250 writers. We made sure that the sets of writers of the training set and test set were disjoint. SD-1 contains 58,527 digit images written by 500 different writers. In contrast to SD-3, where blocks of data from each writer appeared in sequence, the data in SD-1 is scrambled. Writer identities for SD-1 is available and we used this information to unscramble the writers. We then split SD-1 in two: characters written by the first 250 writers went into our new training set. The remaining 250 writers were placed in our test set. Thus we had two sets with nearly 30,000 examples each. The new training set was completed with enough examples from SD-3, starting at pattern # 0, to make a full set of 60,000 training patterns. Similarly, the new test set was completed with SD-3 examples starting at pattern # 35,000 to make a full set with 60,000 test patterns. Only a subset of 10,000 test images (5,000 from SD-1 and 5,000 from SD-3) is available on this site. The full 60,000 sample training set is available.\\n\\nDownloaded from openml.org.\""
      ]
     },
     "execution_count": 4,
     "metadata": {},
     "output_type": "execute_result"
    }
   ],
   "source": [
    "# description of dataset\n",
    "mnist_skl.DESCR"
   ]
  },
  {
   "cell_type": "code",
   "execution_count": 5,
   "id": "3cb55845",
   "metadata": {
    "execution": {
     "iopub.execute_input": "2024-09-02T23:21:32.566037Z",
     "iopub.status.busy": "2024-09-02T23:21:32.565575Z",
     "iopub.status.idle": "2024-09-02T23:21:32.649531Z",
     "shell.execute_reply": "2024-09-02T23:21:32.648200Z"
    },
    "papermill": {
     "duration": 0.099306,
     "end_time": "2024-09-02T23:21:32.652279",
     "exception": false,
     "start_time": "2024-09-02T23:21:32.552973",
     "status": "completed"
    },
    "tags": []
   },
   "outputs": [
    {
     "data": {
      "text/html": [
       "<div>\n",
       "<style scoped>\n",
       "    .dataframe tbody tr th:only-of-type {\n",
       "        vertical-align: middle;\n",
       "    }\n",
       "\n",
       "    .dataframe tbody tr th {\n",
       "        vertical-align: top;\n",
       "    }\n",
       "\n",
       "    .dataframe thead th {\n",
       "        text-align: right;\n",
       "    }\n",
       "</style>\n",
       "<table border=\"1\" class=\"dataframe\">\n",
       "  <thead>\n",
       "    <tr style=\"text-align: right;\">\n",
       "      <th></th>\n",
       "      <th>pixel1</th>\n",
       "      <th>pixel2</th>\n",
       "      <th>pixel3</th>\n",
       "      <th>pixel4</th>\n",
       "      <th>pixel5</th>\n",
       "      <th>pixel6</th>\n",
       "      <th>pixel7</th>\n",
       "      <th>pixel8</th>\n",
       "      <th>pixel9</th>\n",
       "      <th>pixel10</th>\n",
       "      <th>...</th>\n",
       "      <th>pixel775</th>\n",
       "      <th>pixel776</th>\n",
       "      <th>pixel777</th>\n",
       "      <th>pixel778</th>\n",
       "      <th>pixel779</th>\n",
       "      <th>pixel780</th>\n",
       "      <th>pixel781</th>\n",
       "      <th>pixel782</th>\n",
       "      <th>pixel783</th>\n",
       "      <th>pixel784</th>\n",
       "    </tr>\n",
       "  </thead>\n",
       "  <tbody>\n",
       "    <tr>\n",
       "      <th>0</th>\n",
       "      <td>0.0</td>\n",
       "      <td>0.0</td>\n",
       "      <td>0.0</td>\n",
       "      <td>0.0</td>\n",
       "      <td>0.0</td>\n",
       "      <td>0.0</td>\n",
       "      <td>0.0</td>\n",
       "      <td>0.0</td>\n",
       "      <td>0.0</td>\n",
       "      <td>0.0</td>\n",
       "      <td>...</td>\n",
       "      <td>0.0</td>\n",
       "      <td>0.0</td>\n",
       "      <td>0.0</td>\n",
       "      <td>0.0</td>\n",
       "      <td>0.0</td>\n",
       "      <td>0.0</td>\n",
       "      <td>0.0</td>\n",
       "      <td>0.0</td>\n",
       "      <td>0.0</td>\n",
       "      <td>0.0</td>\n",
       "    </tr>\n",
       "    <tr>\n",
       "      <th>1</th>\n",
       "      <td>0.0</td>\n",
       "      <td>0.0</td>\n",
       "      <td>0.0</td>\n",
       "      <td>0.0</td>\n",
       "      <td>0.0</td>\n",
       "      <td>0.0</td>\n",
       "      <td>0.0</td>\n",
       "      <td>0.0</td>\n",
       "      <td>0.0</td>\n",
       "      <td>0.0</td>\n",
       "      <td>...</td>\n",
       "      <td>0.0</td>\n",
       "      <td>0.0</td>\n",
       "      <td>0.0</td>\n",
       "      <td>0.0</td>\n",
       "      <td>0.0</td>\n",
       "      <td>0.0</td>\n",
       "      <td>0.0</td>\n",
       "      <td>0.0</td>\n",
       "      <td>0.0</td>\n",
       "      <td>0.0</td>\n",
       "    </tr>\n",
       "    <tr>\n",
       "      <th>2</th>\n",
       "      <td>0.0</td>\n",
       "      <td>0.0</td>\n",
       "      <td>0.0</td>\n",
       "      <td>0.0</td>\n",
       "      <td>0.0</td>\n",
       "      <td>0.0</td>\n",
       "      <td>0.0</td>\n",
       "      <td>0.0</td>\n",
       "      <td>0.0</td>\n",
       "      <td>0.0</td>\n",
       "      <td>...</td>\n",
       "      <td>0.0</td>\n",
       "      <td>0.0</td>\n",
       "      <td>0.0</td>\n",
       "      <td>0.0</td>\n",
       "      <td>0.0</td>\n",
       "      <td>0.0</td>\n",
       "      <td>0.0</td>\n",
       "      <td>0.0</td>\n",
       "      <td>0.0</td>\n",
       "      <td>0.0</td>\n",
       "    </tr>\n",
       "    <tr>\n",
       "      <th>3</th>\n",
       "      <td>0.0</td>\n",
       "      <td>0.0</td>\n",
       "      <td>0.0</td>\n",
       "      <td>0.0</td>\n",
       "      <td>0.0</td>\n",
       "      <td>0.0</td>\n",
       "      <td>0.0</td>\n",
       "      <td>0.0</td>\n",
       "      <td>0.0</td>\n",
       "      <td>0.0</td>\n",
       "      <td>...</td>\n",
       "      <td>0.0</td>\n",
       "      <td>0.0</td>\n",
       "      <td>0.0</td>\n",
       "      <td>0.0</td>\n",
       "      <td>0.0</td>\n",
       "      <td>0.0</td>\n",
       "      <td>0.0</td>\n",
       "      <td>0.0</td>\n",
       "      <td>0.0</td>\n",
       "      <td>0.0</td>\n",
       "    </tr>\n",
       "    <tr>\n",
       "      <th>4</th>\n",
       "      <td>0.0</td>\n",
       "      <td>0.0</td>\n",
       "      <td>0.0</td>\n",
       "      <td>0.0</td>\n",
       "      <td>0.0</td>\n",
       "      <td>0.0</td>\n",
       "      <td>0.0</td>\n",
       "      <td>0.0</td>\n",
       "      <td>0.0</td>\n",
       "      <td>0.0</td>\n",
       "      <td>...</td>\n",
       "      <td>0.0</td>\n",
       "      <td>0.0</td>\n",
       "      <td>0.0</td>\n",
       "      <td>0.0</td>\n",
       "      <td>0.0</td>\n",
       "      <td>0.0</td>\n",
       "      <td>0.0</td>\n",
       "      <td>0.0</td>\n",
       "      <td>0.0</td>\n",
       "      <td>0.0</td>\n",
       "    </tr>\n",
       "    <tr>\n",
       "      <th>...</th>\n",
       "      <td>...</td>\n",
       "      <td>...</td>\n",
       "      <td>...</td>\n",
       "      <td>...</td>\n",
       "      <td>...</td>\n",
       "      <td>...</td>\n",
       "      <td>...</td>\n",
       "      <td>...</td>\n",
       "      <td>...</td>\n",
       "      <td>...</td>\n",
       "      <td>...</td>\n",
       "      <td>...</td>\n",
       "      <td>...</td>\n",
       "      <td>...</td>\n",
       "      <td>...</td>\n",
       "      <td>...</td>\n",
       "      <td>...</td>\n",
       "      <td>...</td>\n",
       "      <td>...</td>\n",
       "      <td>...</td>\n",
       "      <td>...</td>\n",
       "    </tr>\n",
       "    <tr>\n",
       "      <th>69995</th>\n",
       "      <td>0.0</td>\n",
       "      <td>0.0</td>\n",
       "      <td>0.0</td>\n",
       "      <td>0.0</td>\n",
       "      <td>0.0</td>\n",
       "      <td>0.0</td>\n",
       "      <td>0.0</td>\n",
       "      <td>0.0</td>\n",
       "      <td>0.0</td>\n",
       "      <td>0.0</td>\n",
       "      <td>...</td>\n",
       "      <td>0.0</td>\n",
       "      <td>0.0</td>\n",
       "      <td>0.0</td>\n",
       "      <td>0.0</td>\n",
       "      <td>0.0</td>\n",
       "      <td>0.0</td>\n",
       "      <td>0.0</td>\n",
       "      <td>0.0</td>\n",
       "      <td>0.0</td>\n",
       "      <td>0.0</td>\n",
       "    </tr>\n",
       "    <tr>\n",
       "      <th>69996</th>\n",
       "      <td>0.0</td>\n",
       "      <td>0.0</td>\n",
       "      <td>0.0</td>\n",
       "      <td>0.0</td>\n",
       "      <td>0.0</td>\n",
       "      <td>0.0</td>\n",
       "      <td>0.0</td>\n",
       "      <td>0.0</td>\n",
       "      <td>0.0</td>\n",
       "      <td>0.0</td>\n",
       "      <td>...</td>\n",
       "      <td>0.0</td>\n",
       "      <td>0.0</td>\n",
       "      <td>0.0</td>\n",
       "      <td>0.0</td>\n",
       "      <td>0.0</td>\n",
       "      <td>0.0</td>\n",
       "      <td>0.0</td>\n",
       "      <td>0.0</td>\n",
       "      <td>0.0</td>\n",
       "      <td>0.0</td>\n",
       "    </tr>\n",
       "    <tr>\n",
       "      <th>69997</th>\n",
       "      <td>0.0</td>\n",
       "      <td>0.0</td>\n",
       "      <td>0.0</td>\n",
       "      <td>0.0</td>\n",
       "      <td>0.0</td>\n",
       "      <td>0.0</td>\n",
       "      <td>0.0</td>\n",
       "      <td>0.0</td>\n",
       "      <td>0.0</td>\n",
       "      <td>0.0</td>\n",
       "      <td>...</td>\n",
       "      <td>0.0</td>\n",
       "      <td>0.0</td>\n",
       "      <td>0.0</td>\n",
       "      <td>0.0</td>\n",
       "      <td>0.0</td>\n",
       "      <td>0.0</td>\n",
       "      <td>0.0</td>\n",
       "      <td>0.0</td>\n",
       "      <td>0.0</td>\n",
       "      <td>0.0</td>\n",
       "    </tr>\n",
       "    <tr>\n",
       "      <th>69998</th>\n",
       "      <td>0.0</td>\n",
       "      <td>0.0</td>\n",
       "      <td>0.0</td>\n",
       "      <td>0.0</td>\n",
       "      <td>0.0</td>\n",
       "      <td>0.0</td>\n",
       "      <td>0.0</td>\n",
       "      <td>0.0</td>\n",
       "      <td>0.0</td>\n",
       "      <td>0.0</td>\n",
       "      <td>...</td>\n",
       "      <td>0.0</td>\n",
       "      <td>0.0</td>\n",
       "      <td>0.0</td>\n",
       "      <td>0.0</td>\n",
       "      <td>0.0</td>\n",
       "      <td>0.0</td>\n",
       "      <td>0.0</td>\n",
       "      <td>0.0</td>\n",
       "      <td>0.0</td>\n",
       "      <td>0.0</td>\n",
       "    </tr>\n",
       "    <tr>\n",
       "      <th>69999</th>\n",
       "      <td>0.0</td>\n",
       "      <td>0.0</td>\n",
       "      <td>0.0</td>\n",
       "      <td>0.0</td>\n",
       "      <td>0.0</td>\n",
       "      <td>0.0</td>\n",
       "      <td>0.0</td>\n",
       "      <td>0.0</td>\n",
       "      <td>0.0</td>\n",
       "      <td>0.0</td>\n",
       "      <td>...</td>\n",
       "      <td>0.0</td>\n",
       "      <td>0.0</td>\n",
       "      <td>0.0</td>\n",
       "      <td>0.0</td>\n",
       "      <td>0.0</td>\n",
       "      <td>0.0</td>\n",
       "      <td>0.0</td>\n",
       "      <td>0.0</td>\n",
       "      <td>0.0</td>\n",
       "      <td>0.0</td>\n",
       "    </tr>\n",
       "  </tbody>\n",
       "</table>\n",
       "<p>70000 rows × 784 columns</p>\n",
       "</div>"
      ],
      "text/plain": [
       "       pixel1  pixel2  pixel3  pixel4  pixel5  pixel6  pixel7  pixel8  pixel9  \\\n",
       "0         0.0     0.0     0.0     0.0     0.0     0.0     0.0     0.0     0.0   \n",
       "1         0.0     0.0     0.0     0.0     0.0     0.0     0.0     0.0     0.0   \n",
       "2         0.0     0.0     0.0     0.0     0.0     0.0     0.0     0.0     0.0   \n",
       "3         0.0     0.0     0.0     0.0     0.0     0.0     0.0     0.0     0.0   \n",
       "4         0.0     0.0     0.0     0.0     0.0     0.0     0.0     0.0     0.0   \n",
       "...       ...     ...     ...     ...     ...     ...     ...     ...     ...   \n",
       "69995     0.0     0.0     0.0     0.0     0.0     0.0     0.0     0.0     0.0   \n",
       "69996     0.0     0.0     0.0     0.0     0.0     0.0     0.0     0.0     0.0   \n",
       "69997     0.0     0.0     0.0     0.0     0.0     0.0     0.0     0.0     0.0   \n",
       "69998     0.0     0.0     0.0     0.0     0.0     0.0     0.0     0.0     0.0   \n",
       "69999     0.0     0.0     0.0     0.0     0.0     0.0     0.0     0.0     0.0   \n",
       "\n",
       "       pixel10  ...  pixel775  pixel776  pixel777  pixel778  pixel779  \\\n",
       "0          0.0  ...       0.0       0.0       0.0       0.0       0.0   \n",
       "1          0.0  ...       0.0       0.0       0.0       0.0       0.0   \n",
       "2          0.0  ...       0.0       0.0       0.0       0.0       0.0   \n",
       "3          0.0  ...       0.0       0.0       0.0       0.0       0.0   \n",
       "4          0.0  ...       0.0       0.0       0.0       0.0       0.0   \n",
       "...        ...  ...       ...       ...       ...       ...       ...   \n",
       "69995      0.0  ...       0.0       0.0       0.0       0.0       0.0   \n",
       "69996      0.0  ...       0.0       0.0       0.0       0.0       0.0   \n",
       "69997      0.0  ...       0.0       0.0       0.0       0.0       0.0   \n",
       "69998      0.0  ...       0.0       0.0       0.0       0.0       0.0   \n",
       "69999      0.0  ...       0.0       0.0       0.0       0.0       0.0   \n",
       "\n",
       "       pixel780  pixel781  pixel782  pixel783  pixel784  \n",
       "0           0.0       0.0       0.0       0.0       0.0  \n",
       "1           0.0       0.0       0.0       0.0       0.0  \n",
       "2           0.0       0.0       0.0       0.0       0.0  \n",
       "3           0.0       0.0       0.0       0.0       0.0  \n",
       "4           0.0       0.0       0.0       0.0       0.0  \n",
       "...         ...       ...       ...       ...       ...  \n",
       "69995       0.0       0.0       0.0       0.0       0.0  \n",
       "69996       0.0       0.0       0.0       0.0       0.0  \n",
       "69997       0.0       0.0       0.0       0.0       0.0  \n",
       "69998       0.0       0.0       0.0       0.0       0.0  \n",
       "69999       0.0       0.0       0.0       0.0       0.0  \n",
       "\n",
       "[70000 rows x 784 columns]"
      ]
     },
     "execution_count": 5,
     "metadata": {},
     "output_type": "execute_result"
    }
   ],
   "source": [
    "# Checking data and targets lables\n",
    "mnist_skl.data"
   ]
  },
  {
   "cell_type": "code",
   "execution_count": 6,
   "id": "c6799610",
   "metadata": {
    "execution": {
     "iopub.execute_input": "2024-09-02T23:21:32.677229Z",
     "iopub.status.busy": "2024-09-02T23:21:32.676782Z",
     "iopub.status.idle": "2024-09-02T23:21:32.689491Z",
     "shell.execute_reply": "2024-09-02T23:21:32.688126Z"
    },
    "papermill": {
     "duration": 0.028136,
     "end_time": "2024-09-02T23:21:32.692013",
     "exception": false,
     "start_time": "2024-09-02T23:21:32.663877",
     "status": "completed"
    },
    "tags": []
   },
   "outputs": [
    {
     "data": {
      "text/plain": [
       "0        5\n",
       "1        0\n",
       "2        4\n",
       "3        1\n",
       "4        9\n",
       "        ..\n",
       "69995    2\n",
       "69996    3\n",
       "69997    4\n",
       "69998    5\n",
       "69999    6\n",
       "Name: class, Length: 70000, dtype: category\n",
       "Categories (10, object): ['0', '1', '2', '3', ..., '6', '7', '8', '9']"
      ]
     },
     "execution_count": 6,
     "metadata": {},
     "output_type": "execute_result"
    }
   ],
   "source": [
    "mnist_skl.target"
   ]
  },
  {
   "cell_type": "code",
   "execution_count": 7,
   "id": "4ade6ec9",
   "metadata": {
    "execution": {
     "iopub.execute_input": "2024-09-02T23:21:32.718152Z",
     "iopub.status.busy": "2024-09-02T23:21:32.716984Z",
     "iopub.status.idle": "2024-09-02T23:21:32.724104Z",
     "shell.execute_reply": "2024-09-02T23:21:32.722759Z"
    },
    "papermill": {
     "duration": 0.023042,
     "end_time": "2024-09-02T23:21:32.726818",
     "exception": false,
     "start_time": "2024-09-02T23:21:32.703776",
     "status": "completed"
    },
    "tags": []
   },
   "outputs": [
    {
     "name": "stdout",
     "output_type": "stream",
     "text": [
      "data shape: (70000, 784)\n",
      "target shape: (70000,)\n"
     ]
    }
   ],
   "source": [
    "print(f\"data shape: {mnist_skl.data.shape}\")\n",
    "print(f\"target shape: {mnist_skl.target.shape}\")"
   ]
  },
  {
   "cell_type": "markdown",
   "id": "34b27d75",
   "metadata": {
    "execution": {
     "iopub.execute_input": "2024-09-02T22:03:22.739757Z",
     "iopub.status.busy": "2024-09-02T22:03:22.737964Z",
     "iopub.status.idle": "2024-09-02T22:03:22.751066Z",
     "shell.execute_reply": "2024-09-02T22:03:22.749089Z",
     "shell.execute_reply.started": "2024-09-02T22:03:22.739685Z"
    },
    "papermill": {
     "duration": 0.01159,
     "end_time": "2024-09-02T23:21:32.750121",
     "exception": false,
     "start_time": "2024-09-02T23:21:32.738531",
     "status": "completed"
    },
    "tags": []
   },
   "source": [
    "- The `mnist_skl.data` contains all the data in a 1-D array. \n",
    "- We have to transform the data frame into a NumPy array and then reshape it into 28x28."
   ]
  },
  {
   "cell_type": "code",
   "execution_count": 8,
   "id": "0e017590",
   "metadata": {
    "execution": {
     "iopub.execute_input": "2024-09-02T23:21:32.775495Z",
     "iopub.status.busy": "2024-09-02T23:21:32.775049Z",
     "iopub.status.idle": "2024-09-02T23:21:32.780574Z",
     "shell.execute_reply": "2024-09-02T23:21:32.779351Z"
    },
    "papermill": {
     "duration": 0.021164,
     "end_time": "2024-09-02T23:21:32.783054",
     "exception": false,
     "start_time": "2024-09-02T23:21:32.761890",
     "status": "completed"
    },
    "tags": []
   },
   "outputs": [],
   "source": [
    "# Selecting some 6 random images\n",
    "rndm_img_idx = [3245, 36000, 5, 16459, 59999, 45001]"
   ]
  },
  {
   "cell_type": "code",
   "execution_count": 9,
   "id": "fde5b439",
   "metadata": {
    "execution": {
     "iopub.execute_input": "2024-09-02T23:21:32.808830Z",
     "iopub.status.busy": "2024-09-02T23:21:32.808379Z",
     "iopub.status.idle": "2024-09-02T23:21:33.799481Z",
     "shell.execute_reply": "2024-09-02T23:21:33.798363Z"
    },
    "papermill": {
     "duration": 1.006854,
     "end_time": "2024-09-02T23:21:33.802044",
     "exception": false,
     "start_time": "2024-09-02T23:21:32.795190",
     "status": "completed"
    },
    "tags": []
   },
   "outputs": [
    {
     "data": {
      "text/plain": [
       "<matplotlib.image.AxesImage at 0x7aab137c7dc0>"
      ]
     },
     "execution_count": 9,
     "metadata": {},
     "output_type": "execute_result"
    },
    {
     "data": {
      "image/png": "[encoded data removed]",
      "text/plain": [
       "<Figure size 640x480 with 6 Axes>"
      ]
     },
     "metadata": {},
     "output_type": "display_data"
    }
   ],
   "source": [
    "# visualize the data \n",
    "image= mnist_skl.data.to_numpy()\n",
    "plt.subplot(431)\n",
    "plt.imshow((image[rndm_img_idx[0]].reshape(28,28)), cmap=plt.cm.gray_r, interpolation='nearest')\n",
    "plt.subplot(432)\n",
    "plt.imshow(image[rndm_img_idx[1]].reshape(28,28), cmap=plt.cm.gray_r, interpolation='nearest')\n",
    "plt.subplot(433)\n",
    "plt.imshow(image[rndm_img_idx[2]].reshape(28,28), cmap=plt.cm.gray_r, interpolation='nearest')\n",
    "plt.subplot(434)\n",
    "plt.imshow(image[rndm_img_idx[3]].reshape(28,28), cmap=plt.cm.gray_r, interpolation='nearest')\n",
    "plt.subplot(435)\n",
    "plt.imshow(image[rndm_img_idx[4]].reshape(28,28), cmap=plt.cm.gray_r, interpolation='nearest')\n",
    "plt.subplot(436)\n",
    "plt.imshow(image[rndm_img_idx[5]].reshape(28,28), cmap=plt.cm.gray_r, interpolation='nearest')"
   ]
  },
  {
   "cell_type": "markdown",
   "id": "e25dbca5",
   "metadata": {
    "papermill": {
     "duration": 0.012497,
     "end_time": "2024-09-02T23:21:33.826798",
     "exception": false,
     "start_time": "2024-09-02T23:21:33.814301",
     "status": "completed"
    },
    "tags": []
   },
   "source": [
    "- From the images, the digits looks like [6,9,2,4,8,1]\n",
    "-Let's verify it.\n"
   ]
  },
  {
   "cell_type": "code",
   "execution_count": 10,
   "id": "d022f76f",
   "metadata": {
    "execution": {
     "iopub.execute_input": "2024-09-02T23:21:33.853174Z",
     "iopub.status.busy": "2024-09-02T23:21:33.852712Z",
     "iopub.status.idle": "2024-09-02T23:21:33.859493Z",
     "shell.execute_reply": "2024-09-02T23:21:33.858443Z"
    },
    "papermill": {
     "duration": 0.023176,
     "end_time": "2024-09-02T23:21:33.862290",
     "exception": false,
     "start_time": "2024-09-02T23:21:33.839114",
     "status": "completed"
    },
    "tags": []
   },
   "outputs": [
    {
     "name": "stdout",
     "output_type": "stream",
     "text": [
      "random digits: ['6', '9', '2', '4', '8', '1']\n"
     ]
    }
   ],
   "source": [
    "rndm_digits = [mnist_skl.target[index] for index in rndm_img_idx]\n",
    "print(f\"random digits: {rndm_digits}\")"
   ]
  },
  {
   "cell_type": "markdown",
   "id": "f1651d9d",
   "metadata": {
    "papermill": {
     "duration": 0.012039,
     "end_time": "2024-09-02T23:21:33.886639",
     "exception": false,
     "start_time": "2024-09-02T23:21:33.874600",
     "status": "completed"
    },
    "tags": []
   },
   "source": [
    "Looks like we are correct."
   ]
  },
  {
   "cell_type": "markdown",
   "id": "ea52014a",
   "metadata": {
    "papermill": {
     "duration": 0.011952,
     "end_time": "2024-09-02T23:21:33.911037",
     "exception": false,
     "start_time": "2024-09-02T23:21:33.899085",
     "status": "completed"
    },
    "tags": []
   },
   "source": [
    "### Using PyTorch"
   ]
  },
  {
   "cell_type": "code",
   "execution_count": 11,
   "id": "1118772f",
   "metadata": {
    "execution": {
     "iopub.execute_input": "2024-09-02T23:21:33.938855Z",
     "iopub.status.busy": "2024-09-02T23:21:33.938359Z",
     "iopub.status.idle": "2024-09-02T23:21:36.461282Z",
     "shell.execute_reply": "2024-09-02T23:21:36.460074Z"
    },
    "papermill": {
     "duration": 2.540939,
     "end_time": "2024-09-02T23:21:36.464146",
     "exception": false,
     "start_time": "2024-09-02T23:21:33.923207",
     "status": "completed"
    },
    "tags": []
   },
   "outputs": [],
   "source": [
    "# Import necessary libraries\n",
    "from torchvision import datasets, transforms"
   ]
  },
  {
   "cell_type": "code",
   "execution_count": 12,
   "id": "b44549ce",
   "metadata": {
    "execution": {
     "iopub.execute_input": "2024-09-02T23:21:36.491040Z",
     "iopub.status.busy": "2024-09-02T23:21:36.490233Z",
     "iopub.status.idle": "2024-09-02T23:21:36.496658Z",
     "shell.execute_reply": "2024-09-02T23:21:36.495453Z"
    },
    "papermill": {
     "duration": 0.022555,
     "end_time": "2024-09-02T23:21:36.498993",
     "exception": false,
     "start_time": "2024-09-02T23:21:36.476438",
     "status": "completed"
    },
    "tags": []
   },
   "outputs": [],
   "source": [
    "# Define data transformations\n",
    "transform = transforms.Compose([\n",
    "    transforms.ToTensor(),\n",
    "    transforms.Normalize((0.5,), (0.5,))\n",
    "])"
   ]
  },
  {
   "cell_type": "code",
   "execution_count": 13,
   "id": "6ea96531",
   "metadata": {
    "collapsed": true,
    "execution": {
     "iopub.execute_input": "2024-09-02T23:21:36.525487Z",
     "iopub.status.busy": "2024-09-02T23:21:36.524983Z",
     "iopub.status.idle": "2024-09-02T23:21:41.574866Z",
     "shell.execute_reply": "2024-09-02T23:21:41.573681Z"
    },
    "jupyter": {
     "outputs_hidden": true
    },
    "papermill": {
     "duration": 5.067399,
     "end_time": "2024-09-02T23:21:41.578652",
     "exception": false,
     "start_time": "2024-09-02T23:21:36.511253",
     "status": "completed"
    },
    "tags": []
   },
   "outputs": [
    {
     "name": "stdout",
     "output_type": "stream",
     "text": [
      "Downloading http://yann.lecun.com/exdb/mnist/train-images-idx3-ubyte.gz\n",
      "Failed to download (trying next):\n",
      "HTTP Error 403: Forbidden\n",
      "\n",
      "Downloading https://ossci-datasets.s3.amazonaws.com/mnist/train-images-idx3-ubyte.gz\n",
      "Downloading https://ossci-datasets.s3.amazonaws.com/mnist/train-images-idx3-ubyte.gz to ./data/MNIST/raw/train-images-idx3-ubyte.gz\n"
     ]
    },
    {
     "name": "stderr",
     "output_type": "stream",
     "text": [
      "100%|██████████| 9912422/9912422 [00:00<00:00, 15908229.07it/s]\n"
     ]
    },
    {
     "name": "stdout",
     "output_type": "stream",
     "text": [
      "Extracting ./data/MNIST/raw/train-images-idx3-ubyte.gz to ./data/MNIST/raw\n",
      "\n",
      "Downloading http://yann.lecun.com/exdb/mnist/train-labels-idx1-ubyte.gz\n",
      "Failed to download (trying next):\n",
      "HTTP Error 403: Forbidden\n",
      "\n",
      "Downloading https://ossci-datasets.s3.amazonaws.com/mnist/train-labels-idx1-ubyte.gz\n",
      "Downloading https://ossci-datasets.s3.amazonaws.com/mnist/train-labels-idx1-ubyte.gz to ./data/MNIST/raw/train-labels-idx1-ubyte.gz\n"
     ]
    },
    {
     "name": "stderr",
     "output_type": "stream",
     "text": [
      "100%|██████████| 28881/28881 [00:00<00:00, 466926.57it/s]\n"
     ]
    },
    {
     "name": "stdout",
     "output_type": "stream",
     "text": [
      "Extracting ./data/MNIST/raw/train-labels-idx1-ubyte.gz to ./data/MNIST/raw\n",
      "\n",
      "Downloading http://yann.lecun.com/exdb/mnist/t10k-images-idx3-ubyte.gz\n",
      "Failed to download (trying next):\n",
      "HTTP Error 403: Forbidden\n",
      "\n",
      "Downloading https://ossci-datasets.s3.amazonaws.com/mnist/t10k-images-idx3-ubyte.gz\n",
      "Downloading https://ossci-datasets.s3.amazonaws.com/mnist/t10k-images-idx3-ubyte.gz to ./data/MNIST/raw/t10k-images-idx3-ubyte.gz\n"
     ]
    },
    {
     "name": "stderr",
     "output_type": "stream",
     "text": [
      "100%|██████████| 1648877/1648877 [00:00<00:00, 3790395.61it/s]\n"
     ]
    },
    {
     "name": "stdout",
     "output_type": "stream",
     "text": [
      "Extracting ./data/MNIST/raw/t10k-images-idx3-ubyte.gz to ./data/MNIST/raw\n",
      "\n",
      "Downloading http://yann.lecun.com/exdb/mnist/t10k-labels-idx1-ubyte.gz\n",
      "Failed to download (trying next):\n",
      "HTTP Error 403: Forbidden\n",
      "\n",
      "Downloading https://ossci-datasets.s3.amazonaws.com/mnist/t10k-labels-idx1-ubyte.gz\n",
      "Downloading https://ossci-datasets.s3.amazonaws.com/mnist/t10k-labels-idx1-ubyte.gz to ./data/MNIST/raw/t10k-labels-idx1-ubyte.gz\n"
     ]
    },
    {
     "name": "stderr",
     "output_type": "stream",
     "text": [
      "100%|██████████| 4542/4542 [00:00<00:00, 1749359.85it/s]"
     ]
    },
    {
     "name": "stdout",
     "output_type": "stream",
     "text": [
      "Extracting ./data/MNIST/raw/t10k-labels-idx1-ubyte.gz to ./data/MNIST/raw\n",
      "\n"
     ]
    },
    {
     "name": "stderr",
     "output_type": "stream",
     "text": [
      "\n"
     ]
    }
   ],
   "source": [
    "# Load the dataset\n",
    "train_dataset = datasets.MNIST(root='./data', train=True, download=True, transform=transform)\n",
    "test_dataset = datasets.MNIST(root='./data', train=False, download=True, transform=transform)"
   ]
  },
  {
   "cell_type": "code",
   "execution_count": 14,
   "id": "882dbba0",
   "metadata": {
    "execution": {
     "iopub.execute_input": "2024-09-02T23:21:41.611964Z",
     "iopub.status.busy": "2024-09-02T23:21:41.611165Z",
     "iopub.status.idle": "2024-09-02T23:21:41.618951Z",
     "shell.execute_reply": "2024-09-02T23:21:41.617771Z"
    },
    "papermill": {
     "duration": 0.027245,
     "end_time": "2024-09-02T23:21:41.621499",
     "exception": false,
     "start_time": "2024-09-02T23:21:41.594254",
     "status": "completed"
    },
    "tags": []
   },
   "outputs": [
    {
     "data": {
      "text/plain": [
       "Dataset MNIST\n",
       "    Number of datapoints: 60000\n",
       "    Root location: ./data\n",
       "    Split: Train\n",
       "    StandardTransform\n",
       "Transform: Compose(\n",
       "               ToTensor()\n",
       "               Normalize(mean=(0.5,), std=(0.5,))\n",
       "           )"
      ]
     },
     "execution_count": 14,
     "metadata": {},
     "output_type": "execute_result"
    }
   ],
   "source": [
    "train_dataset"
   ]
  },
  {
   "cell_type": "code",
   "execution_count": 15,
   "id": "967f0479",
   "metadata": {
    "execution": {
     "iopub.execute_input": "2024-09-02T23:21:41.655496Z",
     "iopub.status.busy": "2024-09-02T23:21:41.654422Z",
     "iopub.status.idle": "2024-09-02T23:21:41.662099Z",
     "shell.execute_reply": "2024-09-02T23:21:41.661038Z"
    },
    "papermill": {
     "duration": 0.027379,
     "end_time": "2024-09-02T23:21:41.664698",
     "exception": false,
     "start_time": "2024-09-02T23:21:41.637319",
     "status": "completed"
    },
    "tags": []
   },
   "outputs": [
    {
     "data": {
      "text/plain": [
       "Dataset MNIST\n",
       "    Number of datapoints: 10000\n",
       "    Root location: ./data\n",
       "    Split: Test\n",
       "    StandardTransform\n",
       "Transform: Compose(\n",
       "               ToTensor()\n",
       "               Normalize(mean=(0.5,), std=(0.5,))\n",
       "           )"
      ]
     },
     "execution_count": 15,
     "metadata": {},
     "output_type": "execute_result"
    }
   ],
   "source": [
    "test_dataset"
   ]
  },
  {
   "cell_type": "code",
   "execution_count": 16,
   "id": "f659234e",
   "metadata": {
    "execution": {
     "iopub.execute_input": "2024-09-02T23:21:41.698593Z",
     "iopub.status.busy": "2024-09-02T23:21:41.697733Z",
     "iopub.status.idle": "2024-09-02T23:21:41.750407Z",
     "shell.execute_reply": "2024-09-02T23:21:41.749052Z"
    },
    "papermill": {
     "duration": 0.072638,
     "end_time": "2024-09-02T23:21:41.753184",
     "exception": false,
     "start_time": "2024-09-02T23:21:41.680546",
     "status": "completed"
    },
    "tags": []
   },
   "outputs": [
    {
     "name": "stdout",
     "output_type": "stream",
     "text": [
      "torch.Size([1, 28, 28]) 5\n"
     ]
    }
   ],
   "source": [
    "# access individual samples using indexing\n",
    "image, label = train_dataset[0]\n",
    "print(image.shape, label)"
   ]
  },
  {
   "cell_type": "code",
   "execution_count": 17,
   "id": "8b2f734f",
   "metadata": {
    "execution": {
     "iopub.execute_input": "2024-09-02T23:21:41.787294Z",
     "iopub.status.busy": "2024-09-02T23:21:41.786822Z",
     "iopub.status.idle": "2024-09-02T23:21:41.796457Z",
     "shell.execute_reply": "2024-09-02T23:21:41.795262Z"
    },
    "papermill": {
     "duration": 0.029681,
     "end_time": "2024-09-02T23:21:41.799160",
     "exception": false,
     "start_time": "2024-09-02T23:21:41.769479",
     "status": "completed"
    },
    "tags": []
   },
   "outputs": [
    {
     "name": "stdout",
     "output_type": "stream",
     "text": [
      "random digits: [6, 9, 2, 4, 8, 1]\n"
     ]
    }
   ],
   "source": [
    "# use similar test as sklearn\n",
    "rndm_digits_pytrc = [train_dataset[index][1] for index in rndm_img_idx]\n",
    "print(f\"random digits: {rndm_digits_pytrc}\")"
   ]
  },
  {
   "cell_type": "code",
   "execution_count": 18,
   "id": "6d5a00f3",
   "metadata": {
    "execution": {
     "iopub.execute_input": "2024-09-02T23:21:41.833711Z",
     "iopub.status.busy": "2024-09-02T23:21:41.833251Z",
     "iopub.status.idle": "2024-09-02T23:21:41.840170Z",
     "shell.execute_reply": "2024-09-02T23:21:41.839023Z"
    },
    "papermill": {
     "duration": 0.0271,
     "end_time": "2024-09-02T23:21:41.842702",
     "exception": false,
     "start_time": "2024-09-02T23:21:41.815602",
     "status": "completed"
    },
    "tags": []
   },
   "outputs": [],
   "source": [
    "# Function to plot image\n",
    "def plot_image(image, label, ax=None):\n",
    "    if ax is None:\n",
    "        ax = plt.gca()\n",
    "    ax.imshow(image.squeeze(), cmap=plt.cm.gray_r, interpolation='nearest')\n",
    "    ax.set_title(f'Label: {label}', fontsize=8)\n",
    "    ax.axis('off')"
   ]
  },
  {
   "cell_type": "code",
   "execution_count": 19,
   "id": "16983edd",
   "metadata": {
    "execution": {
     "iopub.execute_input": "2024-09-02T23:21:41.876739Z",
     "iopub.status.busy": "2024-09-02T23:21:41.876256Z",
     "iopub.status.idle": "2024-09-02T23:21:42.309190Z",
     "shell.execute_reply": "2024-09-02T23:21:42.308027Z"
    },
    "papermill": {
     "duration": 0.453256,
     "end_time": "2024-09-02T23:21:42.311981",
     "exception": false,
     "start_time": "2024-09-02T23:21:41.858725",
     "status": "completed"
    },
    "tags": []
   },
   "outputs": [
    {
     "data": {
      "image/png": "[encoded data removed]",
      "text/plain": [
       "<Figure size 300x200 with 6 Axes>"
      ]
     },
     "metadata": {},
     "output_type": "display_data"
    }
   ],
   "source": [
    "# Choose a image from our random indexes\n",
    "fig, axs = plt.subplots(2, 3, figsize=(3, 2))\n",
    "for i, idx in enumerate(rndm_img_idx):\n",
    "    image, label = train_dataset[idx]\n",
    "    plot_image(image, label, axs[i//3, i%3])\n",
    "plt.tight_layout()\n",
    "plt.show()"
   ]
  },
  {
   "cell_type": "markdown",
   "id": "f0b6d507",
   "metadata": {
    "papermill": {
     "duration": 0.016086,
     "end_time": "2024-09-02T23:21:42.344496",
     "exception": false,
     "start_time": "2024-09-02T23:21:42.328410",
     "status": "completed"
    },
    "tags": []
   },
   "source": [
    "### Using Tensorflow/Keras"
   ]
  },
  {
   "cell_type": "code",
   "execution_count": 20,
   "id": "808916e3",
   "metadata": {
    "execution": {
     "iopub.execute_input": "2024-09-02T23:21:42.379738Z",
     "iopub.status.busy": "2024-09-02T23:21:42.378586Z",
     "iopub.status.idle": "2024-09-02T23:21:42.385092Z",
     "shell.execute_reply": "2024-09-02T23:21:42.383932Z"
    },
    "papermill": {
     "duration": 0.026918,
     "end_time": "2024-09-02T23:21:42.387680",
     "exception": false,
     "start_time": "2024-09-02T23:21:42.360762",
     "status": "completed"
    },
    "tags": []
   },
   "outputs": [],
   "source": [
    "# Import necessary libraries\n",
    "from keras.datasets import mnist"
   ]
  },
  {
   "cell_type": "code",
   "execution_count": 21,
   "id": "5412e03b",
   "metadata": {
    "collapsed": true,
    "execution": {
     "iopub.execute_input": "2024-09-02T23:21:42.423012Z",
     "iopub.status.busy": "2024-09-02T23:21:42.421716Z",
     "iopub.status.idle": "2024-09-02T23:21:42.964107Z",
     "shell.execute_reply": "2024-09-02T23:21:42.962887Z"
    },
    "jupyter": {
     "outputs_hidden": true
    },
    "papermill": {
     "duration": 0.563016,
     "end_time": "2024-09-02T23:21:42.967003",
     "exception": false,
     "start_time": "2024-09-02T23:21:42.403987",
     "status": "completed"
    },
    "tags": []
   },
   "outputs": [
    {
     "name": "stdout",
     "output_type": "stream",
     "text": [
      "Downloading data from https://storage.googleapis.com/tensorflow/tf-keras-datasets/mnist.npz\n",
      "\u001b[1m11490434/11490434\u001b[0m \u001b[32m━━━━━━━━━━━━━━━━━━━━\u001b[0m\u001b[37m\u001b[0m \u001b[1m0s\u001b[0m 0us/step\n"
     ]
    }
   ],
   "source": [
    "# Load the MNIST dataset\n",
    "(X_train, y_train), (X_test, y_test) = mnist.load_data()"
   ]
  },
  {
   "cell_type": "code",
   "execution_count": 22,
   "id": "297eba2b",
   "metadata": {
    "execution": {
     "iopub.execute_input": "2024-09-02T23:21:43.006886Z",
     "iopub.status.busy": "2024-09-02T23:21:43.005587Z",
     "iopub.status.idle": "2024-09-02T23:21:43.014446Z",
     "shell.execute_reply": "2024-09-02T23:21:43.013004Z"
    },
    "papermill": {
     "duration": 0.032462,
     "end_time": "2024-09-02T23:21:43.018107",
     "exception": false,
     "start_time": "2024-09-02T23:21:42.985645",
     "status": "completed"
    },
    "tags": []
   },
   "outputs": [
    {
     "name": "stdout",
     "output_type": "stream",
     "text": [
      "X_train shape: (60000, 28, 28)\n",
      "y_train shape: (60000,)\n",
      "X_test shape: (10000, 28, 28)\n",
      "y_test shape: (10000,)\n"
     ]
    }
   ],
   "source": [
    "print(\"X_train shape:\", X_train.shape)\n",
    "print(\"y_train shape:\", y_train.shape)\n",
    "print(\"X_test shape:\", X_test.shape)\n",
    "print(\"y_test shape:\", y_test.shape)"
   ]
  },
  {
   "cell_type": "code",
   "execution_count": 23,
   "id": "ed139f38",
   "metadata": {
    "execution": {
     "iopub.execute_input": "2024-09-02T23:21:43.054187Z",
     "iopub.status.busy": "2024-09-02T23:21:43.053398Z",
     "iopub.status.idle": "2024-09-02T23:21:43.059468Z",
     "shell.execute_reply": "2024-09-02T23:21:43.058385Z"
    },
    "papermill": {
     "duration": 0.027945,
     "end_time": "2024-09-02T23:21:43.063094",
     "exception": false,
     "start_time": "2024-09-02T23:21:43.035149",
     "status": "completed"
    },
    "tags": []
   },
   "outputs": [
    {
     "name": "stdout",
     "output_type": "stream",
     "text": [
      "random digits: [6, 9, 2, 4, 8, 1]\n"
     ]
    }
   ],
   "source": [
    "# use similar test as sklearn\n",
    "rndm_digits_tfk = [y_train[index] for index in rndm_img_idx]\n",
    "print(f\"random digits: {rndm_digits_tfk}\")"
   ]
  },
  {
   "cell_type": "code",
   "execution_count": 24,
   "id": "fe52a6cd",
   "metadata": {
    "execution": {
     "iopub.execute_input": "2024-09-02T23:21:43.099102Z",
     "iopub.status.busy": "2024-09-02T23:21:43.098636Z",
     "iopub.status.idle": "2024-09-02T23:21:43.602413Z",
     "shell.execute_reply": "2024-09-02T23:21:43.601042Z"
    },
    "papermill": {
     "duration": 0.525283,
     "end_time": "2024-09-02T23:21:43.605500",
     "exception": false,
     "start_time": "2024-09-02T23:21:43.080217",
     "status": "completed"
    },
    "tags": []
   },
   "outputs": [
    {
     "data": {
      "image/png": "[encoded data removed]",
      "text/plain": [
       "<Figure size 300x200 with 6 Axes>"
      ]
     },
     "metadata": {},
     "output_type": "display_data"
    }
   ],
   "source": [
    "# Choose a image from our random indexes use same function as above subsection\n",
    "fig, axs = plt.subplots(2, 3, figsize=(3, 2))\n",
    "for i, idx in enumerate(rndm_img_idx):\n",
    "    image, label = X_train[idx], y_train[idx]\n",
    "    plot_image(image, label, axs[i//3, i%3])\n",
    "plt.tight_layout()\n",
    "plt.show()"
   ]
  },
  {
   "cell_type": "markdown",
   "id": "4416b601",
   "metadata": {
    "papermill": {
     "duration": 0.017159,
     "end_time": "2024-09-02T23:21:43.640372",
     "exception": false,
     "start_time": "2024-09-02T23:21:43.623213",
     "status": "completed"
    },
    "tags": []
   },
   "source": [
    "## Conclusion\n",
    "So in this brief investigation, we understood out following things:\n",
    "- We learned to load MNIST data using Sci-Kit Learn, PyTorch as well as TensorFlow/Keras\n",
    "- We understood that the MNIST dataset is effectively solved, but it can be a useful starting point for developing and practicing a methodology for solving image classification tasks\n",
    "- We can see that there are 60,000 examples in the training dataset and 10,000 in the test dataset and that images are indeed square with 28×28 pixels (for PyTorch and TF/Keras dataset)\n",
    "- Similarily, Sci-Kit Learn dataset has single set of 70,000 examples with image data in 1x784 pixels\n",
    "\n",
    "In next Notebook, I will try to apply basic ML classifying models like Decision Tree, Random Forest etc. classifiers with Sci-Kit learn and evaluate their Performances"
   ]
  }
 ],
 "metadata": {
  "kaggle": {
   "accelerator": "none",
   "dataSources": [],
   "dockerImageVersionId": 30761,
   "isGpuEnabled": false,
   "isInternetEnabled": true,
   "language": "python",
   "sourceType": "notebook"
  },
  "kernelspec": {
   "display_name": "Python 3",
   "language": "python",
   "name": "python3"
  },
  "language_info": {
   "codemirror_mode": {
    "name": "ipython",
    "version": 3
   },
   "file_extension": ".py",
   "mimetype": "text/x-python",
   "name": "python",
   "nbconvert_exporter": "python",
   "pygments_lexer": "ipython3",
   "version": "3.10.14"
  },
  "papermill": {
   "default_parameters": {},
   "duration": 107.582469,
   "end_time": "2024-09-02T23:21:46.493056",
   "environment_variables": {},
   "exception": null,
   "input_path": "__notebook__.ipynb",
   "output_path": "__notebook__.ipynb",
   "parameters": {},
   "start_time": "2024-09-02T23:19:58.910587",
   "version": "2.6.0"
  }
 },
 "nbformat": 4,
 "nbformat_minor": 5
}
